{
 "cells": [
  {
   "cell_type": "code",
   "execution_count": 23,
   "metadata": {},
   "outputs": [],
   "source": [
    "import spacy\n",
    "import os\n",
    "import numpy as np\n"
   ]
  },
  {
   "cell_type": "code",
   "execution_count": 24,
   "metadata": {},
   "outputs": [],
   "source": [
    "# dirctory, .txt , optional die Anzahl an Files\n",
    "def read_files_from_directory(mydir,ending,*argv):\n",
    "    number = np.inf\n",
    "    idx = 0\n",
    "    if argv is not None:\n",
    "        if len(argv)==1:\n",
    "            number = argv[0]\n",
    "        else:\n",
    "            print('too many input arguments in read_files_from_directory')\n",
    "    for file in os.listdir(mydir):\n",
    "        if file.endswith(ending):\n",
    "            print(os.path.join(mydir, file))\n",
    "            idx = idx +1\n",
    "            if idx>=number:\n",
    "                break\n",
    "    \n",
    "            "
   ]
  },
  {
   "cell_type": "code",
   "execution_count": 31,
   "metadata": {},
   "outputs": [
    {
     "name": "stdout",
     "output_type": "stream",
     "text": [
      "D:\\data\\10_1016_j_clineuro_2003_08_003.xml\n",
      "D:\\data\\10_1016_j_clineuro_2003_09_004.xml\n",
      "D:\\data\\10_1016_j_clineuro_2003_09_005.xml\n",
      "D:\\data\\10_1016_j_clineuro_2003_10_001.xml\n",
      "D:\\data\\10_1016_j_clineuro_2003_10_008.xml\n",
      "D:\\data\\10_1016_j_clineuro_2003_10_009.xml\n",
      "D:\\data\\10_1016_j_clineuro_2003_10_010.xml\n",
      "D:\\data\\10_1016_j_clineuro_2003_10_011.xml\n",
      "D:\\data\\10_1016_j_clineuro_2003_10_012.xml\n",
      "D:\\data\\10_1016_j_clineuro_2003_11_001.xml\n",
      "D:\\data\\10_1016_j_clineuro_2003_11_002.xml\n"
     ]
    }
   ],
   "source": [
    "read_files_from_directory(\"D:\\\\data\\\\\",'.xml',10)"
   ]
  },
  {
   "cell_type": "code",
   "execution_count": 17,
   "metadata": {},
   "outputs": [
    {
     "data": {
      "text/plain": [
       "True"
      ]
     },
     "execution_count": 17,
     "metadata": {},
     "output_type": "execute_result"
    }
   ],
   "source": [
    "1<2"
   ]
  },
  {
   "cell_type": "code",
   "execution_count": 20,
   "metadata": {},
   "outputs": [
    {
     "data": {
      "text/plain": [
       "True"
      ]
     },
     "execution_count": 20,
     "metadata": {},
     "output_type": "execute_result"
    }
   ],
   "source": [
    "1<float(\"Inf\")"
   ]
  },
  {
   "cell_type": "code",
   "execution_count": null,
   "metadata": {},
   "outputs": [],
   "source": []
  }
 ],
 "metadata": {
  "kernelspec": {
   "display_name": "Python 3",
   "language": "python",
   "name": "python3"
  },
  "language_info": {
   "codemirror_mode": {
    "name": "ipython",
    "version": 3
   },
   "file_extension": ".py",
   "mimetype": "text/x-python",
   "name": "python",
   "nbconvert_exporter": "python",
   "pygments_lexer": "ipython3",
   "version": "3.7.0"
  }
 },
 "nbformat": 4,
 "nbformat_minor": 2
}
